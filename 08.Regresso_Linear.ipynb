{
 "cells": [
  {
   "cell_type": "markdown",
   "metadata": {},
   "source": [
    "# Introdução à Ciência de Dados - UFPB\n",
    "Professor: Yuri Malheiros\n",
    "\n",
    "## Regressão Linear - Exercício"
   ]
  },
  {
   "cell_type": "markdown",
   "metadata": {},
   "source": [
    "Utilizando o dataset dos filmes, aplique a regressão linear para predizer o `US Gross` de acordo com o `Production Budget`."
   ]
  },
  {
   "cell_type": "markdown",
   "metadata": {},
   "source": [
    "Primeiro carregue os dados:"
   ]
  },
  {
   "cell_type": "code",
   "execution_count": 1,
   "metadata": {},
   "outputs": [],
   "source": [
    "# Código para carregar os dados aqui\n",
    "\n",
    "import pandas as pd\n",
    "import seaborn as sns\n",
    "sns.set_palette('Set2')"
   ]
  },
  {
   "cell_type": "code",
   "execution_count": 2,
   "metadata": {},
   "outputs": [],
   "source": [
    "movies_df = pd.read_csv(\"../../../caiov/ICD/movies.csv\")\n",
    "movies_df = movies_df.drop([\"Title\",\"Worldwide Gross\",\"US DVD Sales\",\"Release Date\",\"MPAA Rating\",\"Running Time (min)\",\"Distributor\",\n",
    "               \"Source\",\"Major Genre\",\"Creative Type\",\"Director\",\"Rotten Tomatoes Rating\",\"IMDB Rating\",\"IMDB Votes\"], axis=1)"
   ]
  },
  {
   "cell_type": "code",
   "execution_count": 3,
   "metadata": {},
   "outputs": [
    {
     "data": {
      "text/html": [
       "<div>\n",
       "<style scoped>\n",
       "    .dataframe tbody tr th:only-of-type {\n",
       "        vertical-align: middle;\n",
       "    }\n",
       "\n",
       "    .dataframe tbody tr th {\n",
       "        vertical-align: top;\n",
       "    }\n",
       "\n",
       "    .dataframe thead th {\n",
       "        text-align: right;\n",
       "    }\n",
       "</style>\n",
       "<table border=\"1\" class=\"dataframe\">\n",
       "  <thead>\n",
       "    <tr style=\"text-align: right;\">\n",
       "      <th></th>\n",
       "      <th>US Gross</th>\n",
       "      <th>Production Budget</th>\n",
       "    </tr>\n",
       "  </thead>\n",
       "  <tbody>\n",
       "    <tr>\n",
       "      <th>0</th>\n",
       "      <td>146083.0</td>\n",
       "      <td>8000000.0</td>\n",
       "    </tr>\n",
       "    <tr>\n",
       "      <th>1</th>\n",
       "      <td>10876.0</td>\n",
       "      <td>300000.0</td>\n",
       "    </tr>\n",
       "    <tr>\n",
       "      <th>2</th>\n",
       "      <td>203134.0</td>\n",
       "      <td>250000.0</td>\n",
       "    </tr>\n",
       "    <tr>\n",
       "      <th>3</th>\n",
       "      <td>373615.0</td>\n",
       "      <td>300000.0</td>\n",
       "    </tr>\n",
       "    <tr>\n",
       "      <th>4</th>\n",
       "      <td>1009819.0</td>\n",
       "      <td>1000000.0</td>\n",
       "    </tr>\n",
       "    <tr>\n",
       "      <th>...</th>\n",
       "      <td>...</td>\n",
       "      <td>...</td>\n",
       "    </tr>\n",
       "    <tr>\n",
       "      <th>3196</th>\n",
       "      <td>31452765.0</td>\n",
       "      <td>24000000.0</td>\n",
       "    </tr>\n",
       "    <tr>\n",
       "      <th>3197</th>\n",
       "      <td>33080084.0</td>\n",
       "      <td>85000000.0</td>\n",
       "    </tr>\n",
       "    <tr>\n",
       "      <th>3198</th>\n",
       "      <td>11989328.0</td>\n",
       "      <td>35000000.0</td>\n",
       "    </tr>\n",
       "    <tr>\n",
       "      <th>3199</th>\n",
       "      <td>45575336.0</td>\n",
       "      <td>80000000.0</td>\n",
       "    </tr>\n",
       "    <tr>\n",
       "      <th>3200</th>\n",
       "      <td>93828745.0</td>\n",
       "      <td>65000000.0</td>\n",
       "    </tr>\n",
       "  </tbody>\n",
       "</table>\n",
       "<p>3193 rows × 2 columns</p>\n",
       "</div>"
      ],
      "text/plain": [
       "        US Gross  Production Budget\n",
       "0       146083.0          8000000.0\n",
       "1        10876.0           300000.0\n",
       "2       203134.0           250000.0\n",
       "3       373615.0           300000.0\n",
       "4      1009819.0          1000000.0\n",
       "...          ...                ...\n",
       "3196  31452765.0         24000000.0\n",
       "3197  33080084.0         85000000.0\n",
       "3198  11989328.0         35000000.0\n",
       "3199  45575336.0         80000000.0\n",
       "3200  93828745.0         65000000.0\n",
       "\n",
       "[3193 rows x 2 columns]"
      ]
     },
     "execution_count": 3,
     "metadata": {},
     "output_type": "execute_result"
    }
   ],
   "source": [
    "movies_df = movies_df.dropna()\n",
    "movies_df"
   ]
  },
  {
   "cell_type": "markdown",
   "metadata": {},
   "source": [
    "Visualize os dados com um gráfico de dispersão:"
   ]
  },
  {
   "cell_type": "code",
   "execution_count": 4,
   "metadata": {},
   "outputs": [
    {
     "data": {
      "text/plain": [
       "<matplotlib.axes._subplots.AxesSubplot at 0x1884e39a1c8>"
      ]
     },
     "execution_count": 4,
     "metadata": {},
     "output_type": "execute_result"
    },
    {
     "data": {
      "image/png": "[encoded data removed]",
      "text/plain": [
       "<Figure size 432x288 with 1 Axes>"
      ]
     },
     "metadata": {
      "needs_background": "light"
     },
     "output_type": "display_data"
    }
   ],
   "source": [
    "# Código para visualizar os dados aqui\n",
    "\n",
    "sns.scatterplot(data=movies_df, x=\"Production Budget\", y=\"US Gross\")"
   ]
  },
  {
   "cell_type": "markdown",
   "metadata": {},
   "source": [
    "Use a regressão linear para encontrar os coeficientes a e b:"
   ]
  },
  {
   "cell_type": "code",
   "execution_count": 5,
   "metadata": {},
   "outputs": [
    {
     "name": "stdout",
     "output_type": "stream",
     "text": [
      "f(x) = 1.0957226466834862x + 9896486.136543624\n"
     ]
    }
   ],
   "source": [
    "# Código da regressão linear aqui\n",
    "\n",
    "from scipy.stats import linregress\n",
    "result = linregress(movies_df[\"Production Budget\"], movies_df[\"US Gross\"])\n",
    "\n",
    "a = result.slope\n",
    "b = result.intercept\n",
    "\n",
    "print(f\"f(x) = {a}x + {b}\")"
   ]
  },
  {
   "cell_type": "code",
   "execution_count": null,
   "metadata": {},
   "outputs": [],
   "source": []
  },
  {
   "cell_type": "markdown",
   "metadata": {},
   "source": [
    "Utilize a função `show_regression` abaixo para visualizar o resultado da regressão linear. Nesta função, você deve passar as coordenadas x dos pontos, as coordenadas y, o coeficiente a e o coeficiente b."
   ]
  },
  {
   "cell_type": "code",
   "execution_count": 6,
   "metadata": {},
   "outputs": [],
   "source": [
    "#### NÃO ALTERAR ESSE CÓDIGO ####\n",
    "\n",
    "import matplotlib.pyplot as plt\n",
    "\n",
    "def gen_line(x_min, x_max, n_points, a, b):\n",
    "    interval = x_max-x_min\n",
    "    interval_value = interval/n_points\n",
    "    \n",
    "    x_result = []\n",
    "    y_result = []\n",
    "\n",
    "    for i in range(n_points):\n",
    "        current_x = x_min+i*interval_value\n",
    "        x_result.append(current_x)\n",
    "        y_result.append(a*current_x + b)\n",
    "        \n",
    "    return x_result, y_result\n",
    "\n",
    "def show_regression(x, y, a, b):\n",
    "    N = 100\n",
    "\n",
    "    plt.scatter(x, y)\n",
    "\n",
    "    line_1 = gen_line(min(x), max(x), N, a, b)\n",
    "    plt.plot(line_1[0], line_1[1], c= \"red\")\n",
    "\n",
    "    plt.gca()\n",
    "    plt.show()"
   ]
  },
  {
   "cell_type": "markdown",
   "metadata": {},
   "source": [
    "Exemplo de uso da função:"
   ]
  },
  {
   "cell_type": "code",
   "execution_count": 7,
   "metadata": {},
   "outputs": [
    {
     "data": {
      "image/png": "[encoded data removed]",
      "text/plain": [
       "<Figure size 432x288 with 1 Axes>"
      ]
     },
     "metadata": {
      "needs_background": "light"
     },
     "output_type": "display_data"
    }
   ],
   "source": [
    "# show_regression(df[\"Production Budget\"], df[\"US Gross\"], a, b)\n",
    "\n",
    "show_regression(movies_df[\"Production Budget\"], movies_df[\"US Gross\"], a, b)"
   ]
  },
  {
   "cell_type": "markdown",
   "metadata": {},
   "source": [
    "A função `predict` recebe um production budget de um filme e retorna a predição do US Gross para ele:"
   ]
  },
  {
   "cell_type": "code",
   "execution_count": 8,
   "metadata": {},
   "outputs": [],
   "source": [
    "def predict(production_budget):\n",
    "    \"\"\"\n",
    "    >>> f'{predict(100000):.2f}'\n",
    "    '10006058.40'\n",
    "    \n",
    "    >>> f'{predict(1000000):.2f}'\n",
    "    '10992208.78'\n",
    "\n",
    "    >>> f'{predict(5000000):.2f}'\n",
    "    '15375099.37'\n",
    "    \"\"\"\n",
    "    # ADICIONE O SEU CÓDIGO AQUI\n",
    "    \n",
    "    return a*production_budget + b"
   ]
  },
  {
   "cell_type": "markdown",
   "metadata": {},
   "source": [
    "## Teste"
   ]
  },
  {
   "cell_type": "code",
   "execution_count": 9,
   "metadata": {},
   "outputs": [
    {
     "name": "stdout",
     "output_type": "stream",
     "text": [
      "Trying:\n",
      "    f'{predict(100000):.2f}'\n",
      "Expecting:\n",
      "    '10006058.40'\n",
      "ok\n",
      "Trying:\n",
      "    f'{predict(1000000):.2f}'\n",
      "Expecting:\n",
      "    '10992208.78'\n",
      "ok\n",
      "Trying:\n",
      "    f'{predict(5000000):.2f}'\n",
      "Expecting:\n",
      "    '15375099.37'\n",
      "ok\n",
      "3 items had no tests:\n",
      "    __main__\n",
      "    __main__.gen_line\n",
      "    __main__.show_regression\n",
      "1 items passed all tests:\n",
      "   3 tests in __main__.predict\n",
      "3 tests in 4 items.\n",
      "3 passed and 0 failed.\n",
      "Test passed.\n"
     ]
    },
    {
     "data": {
      "text/plain": [
       "TestResults(failed=0, attempted=3)"
      ]
     },
     "execution_count": 9,
     "metadata": {},
     "output_type": "execute_result"
    }
   ],
   "source": [
    "import doctest\n",
    "\n",
    "doctest.testmod(verbose=True)"
   ]
  },
  {
   "cell_type": "code",
   "execution_count": null,
   "metadata": {},
   "outputs": [],
   "source": []
  }
 ],
 "metadata": {
  "kernelspec": {
   "display_name": "Python 3",
   "language": "python",
   "name": "python3"
  },
  "language_info": {
   "codemirror_mode": {
    "name": "ipython",
    "version": 3
   },
   "file_extension": ".py",
   "mimetype": "text/x-python",
   "name": "python",
   "nbconvert_exporter": "python",
   "pygments_lexer": "ipython3",
   "version": "3.7.6"
  }
 },
 "nbformat": 4,
 "nbformat_minor": 4
}
